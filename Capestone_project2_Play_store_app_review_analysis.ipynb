{
  "nbformat": 4,
  "nbformat_minor": 0,
  "metadata": {
    "colab": {
      "private_outputs": true,
      "provenance": [],
      "collapsed_sections": [
        "vncDsAP0Gaoa",
        "FJNUwmbgGyua",
        "w6K7xa23Elo4",
        "yQaldy8SH6Dl",
        "PH-0ReGfmX4f",
        "mDgbUHAGgjLW",
        "mdSHIntcF-Ri",
        "0wOQAZs5pc--",
        "KSlN3yHqYklG",
        "EM7whBJCYoAo",
        "4Of9eVA-YrdM",
        "bamQiAODYuh1",
        "OH-pJp9IphqM",
        "PIIx-8_IphqN",
        "BZR9WyysphqO",
        "YJ55k-q6phqO",
        "U2RJ9gkRphqQ",
        "x-EpHcCOp1ci",
        "n3dbpmDWp1ck",
        "Ag9LCva-p1cl",
        "NC_X3p0fY2L0",
        "q29F0dvdveiT",
        "EXh0U9oCveiU",
        "22aHeOlLveiV",
        "gIfDvo9L0UH2"
      ],
      "cell_execution_strategy": "setup",
      "include_colab_link": true
    },
    "kernelspec": {
      "name": "python3",
      "display_name": "Python 3"
    },
    "language_info": {
      "name": "python"
    }
  },
  "cells": [
    {
      "cell_type": "markdown",
      "metadata": {
        "id": "view-in-github",
        "colab_type": "text"
      },
      "source": [
        "<a href=\"https://colab.research.google.com/github/piyushrao1720/capestone_project2_playstore_app_review_analysis/blob/main/Capestone_project2_Play_store_app_review_analysis.ipynb\" target=\"_parent\"><img src=\"https://colab.research.google.com/assets/colab-badge.svg\" alt=\"Open In Colab\"/></a>"
      ]
    },
    {
      "cell_type": "markdown",
      "source": [
        "# **Project Name**    -\n",
        "\n"
      ],
      "metadata": {
        "id": "vncDsAP0Gaoa"
      }
    },
    {
      "cell_type": "markdown",
      "source": [
        "##### **Project Type**    - EDA/Regression/Classification/Unsupervised\n",
        "##### **Contribution**    - Individual/Team\n",
        "##### **Team Member 1 -**Piyush Rao\n",
        "##### **Team Member 2 -**\n",
        "##### **Team Member 3 -**\n",
        "##### **Team Member 4 -**"
      ],
      "metadata": {
        "id": "beRrZCGUAJYm"
      }
    },
    {
      "cell_type": "markdown",
      "source": [
        "# **Project Summary -**"
      ],
      "metadata": {
        "id": "FJNUwmbgGyua"
      }
    },
    {
      "cell_type": "markdown",
      "source": [
        "Data science can be summarized into five steps: capture, maintain, process, analyze, and communicate. Mobile app distribution platforms such as Google Play get flooded with several thousand new apps every day, with many more thousands of developers working independently or in a team to make them successful. With immense competition from all over the globe, it is imperative for a developer to know whether he is proceeding in the right direction. The app’s success is usually determined more by the number of installs and the user ratings that it has received over its lifetime than by the revenue it generates. To gain a deeper understanding of the Google Play Store data, we conducted exploratory data analysis in order to find relationships with specific features, such as how the number of words in an app's name affects installs, so that we can use these to determine which apps will have the highest chances of succeeding.\n",
        "\n",
        "In the initial phase, we focused on the data cleaning and preparation in order to ensure that we gave them the best possible outcome of our analysis. Our major challenge was data cleaning. In data cleaning, we have performed a few steps to ensure the quality of the data, such as removing null values. During the data cleaning step, we found that 13.60% of ratings were null values, and even after merging both the data frames, we could not infer much in order to fill them. Thus, we had to drop them.\n",
        "\n",
        "User Reviews had 42% of null values, which could have been used for developing an understanding of the category-wise sentiments, which would help us fill 15.60% of the null values in the Rating column. The merged data frame of both the Play Store and user reviews had only 816 common apps. This is just 10% of the cleaned data; we could have given more valuable analysis if we had at least 70%–80% of the data available in the merged data frames.\n",
        "\n",
        "With the cleaned data, we have performed exploratory data analysis to understand our dataset, like the number of installations for each category. We observed the distribution of all numerical data and the frequencies of categorical data. We have also found out the correlation of several data points, like category vs. install, rating vs. review, sentiment subjectivity vs. sentiment polarity, rating, and so on.\n",
        "\n",
        "After completion of the analysis, we concluded that users prefer more free apps. Most of the apps present in the Play Store are more or less the same size, so size doesn’t affect their decisions much. The majority of the apps in the dataset are small in size. It was found that most of the apps that are present on the Google Play Store have ratings between 4 and 5. The dominant content rating of the app is everyone, and communication is the most frequent genre. We found the most popular apps based on two factors: the number of installs and the number of reviews. Facebook is the most popular app with this logic, and WhatsApp has followed.\n",
        "\n",
        "Most of the reviews have positive sentiment, while negative and neutral reviews have a low number of reviews. Most of the reviews fall on the [-0.50, 0.75] polarity scale, implying that the extremely negative or positive sentiments are significantly low. Most of the reviews show a mid-range of negative and positive sentiments. Sentiment subjectivity is not always proportional to sentiment polarity, but in the maximum number of cases, it shows linear behaviour when variance is too high or too low.\n",
        "\n",
        "The scope of the problem is not limited to what is being considered for this project. Considering the results and processes we have executed, we can conclude that we have met the objective of the group project, which was to analyse the apps on the Google Play Store and determine trends for the Google Play Store."
      ],
      "metadata": {
        "id": "F6v_1wHtG2nS"
      }
    },
    {
      "cell_type": "markdown",
      "source": [
        "# **GitHub Link -**"
      ],
      "metadata": {
        "id": "w6K7xa23Elo4"
      }
    },
    {
      "cell_type": "markdown",
      "source": [
        "Provide your GitHub Link here."
      ],
      "metadata": {
        "id": "h1o69JH3Eqqn"
      }
    },
    {
      "cell_type": "markdown",
      "source": [
        "# **Problem Statement**\n"
      ],
      "metadata": {
        "id": "yQaldy8SH6Dl"
      }
    },
    {
      "cell_type": "markdown",
      "source": [
        "Google Play Store is one of the top app markets in the world, and it is quite popular among millions of people. As the app store market is growing, the demand for developers is also growing. The Play Store allows users to install different kinds of apps as per their interests and have access to rate and comment on the apps as per their experiences, which is called a review.\n",
        "\n",
        "To make a successful and engaging app, developers should have knowledge of the users choices and preferences for features like the app's size, price, Android version,when it was last updated, etc.\n",
        "\n",
        "Before developing the apps, developers should also know the user sentiment of other apps that have similar features to the future app.\n",
        "\n",
        "Two datasets are provided for the analysis of users choice and sentiment: one is basic information about the apps, and the other is about users reviews and sentiments about particular apps. Both datasets need to be examined in order to identify the important factors that influence app engagement and success."
      ],
      "metadata": {
        "id": "DpeJGUA3kjGy"
      }
    },
    {
      "cell_type": "markdown",
      "source": [
        "#### **Define Your Business Objective?**"
      ],
      "metadata": {
        "id": "PH-0ReGfmX4f"
      }
    },
    {
      "cell_type": "markdown",
      "source": [
        "The Play Store's app data has enormous potential to drive app-making businesses to success. The main object is for this to get a higher number of installations, a high rating, and a higher number of positive reviews. We need to explore and analyse the datasets to achieve the desired success and engagement."
      ],
      "metadata": {
        "id": "PhDvGCAqmjP1"
      }
    },
    {
      "cell_type": "markdown",
      "source": [
        "# **General Guidelines** : -  "
      ],
      "metadata": {
        "id": "mDgbUHAGgjLW"
      }
    },
    {
      "cell_type": "markdown",
      "source": [
        "1.   Well-structured, formatted, and commented code is required.\n",
        "2.   Exception Handling, Production Grade Code & Deployment Ready Code will be a plus. Those students will be awarded some additional credits.\n",
        "     \n",
        "     The additional credits will have advantages over other students during Star Student selection.\n",
        "       \n",
        "             [ Note: - Deployment Ready Code is defined as, the whole .ipynb notebook should be executable in one go\n",
        "                       without a single error logged. ]\n",
        "\n",
        "3.   Each and every logic should have proper comments.\n",
        "4. You may add as many number of charts you want. Make Sure for each and every chart the following format should be answered.\n",
        "        \n",
        "\n",
        "```\n",
        "# Chart visualization code\n",
        "```\n",
        "            \n",
        "\n",
        "*   Why did you pick the specific chart?\n",
        "*   What is/are the insight(s) found from the chart?\n",
        "* Will the gained insights help creating a positive business impact?\n",
        "Are there any insights that lead to negative growth? Justify with specific reason.\n",
        "\n",
        "5. You have to create at least 20 logical & meaningful charts having important insights.\n",
        "\n",
        "\n",
        "[ Hints : - Do the Vizualization in  a structured way while following \"UBM\" Rule.\n",
        "\n",
        "U - Univariate Analysis,\n",
        "\n",
        "B - Bivariate Analysis (Numerical - Categorical, Numerical - Numerical, Categorical - Categorical)\n",
        "\n",
        "M - Multivariate Analysis\n",
        " ]\n",
        "\n",
        "\n",
        "\n"
      ],
      "metadata": {
        "id": "ZrxVaUj-hHfC"
      }
    },
    {
      "cell_type": "markdown",
      "source": [
        "# ***Let's Begin !***"
      ],
      "metadata": {
        "id": "O_i_v8NEhb9l"
      }
    },
    {
      "cell_type": "markdown",
      "source": [
        "## ***1. Know Your Data***"
      ],
      "metadata": {
        "id": "HhfV-JJviCcP"
      }
    },
    {
      "cell_type": "markdown",
      "source": [
        "### Import Libraries"
      ],
      "metadata": {
        "id": "Y3lxredqlCYt"
      }
    },
    {
      "cell_type": "code",
      "source": [
        "# Import Libraries\n",
        "import pandas as pd\n",
        "import numpy as np\n",
        "import seaborn as sns\n",
        "import matplotlib.pyplot as plt"
      ],
      "metadata": {
        "id": "M8Vqi-pPk-HR"
      },
      "execution_count": null,
      "outputs": []
    },
    {
      "cell_type": "markdown",
      "source": [
        "### Dataset Loading"
      ],
      "metadata": {
        "id": "3RnN4peoiCZX"
      }
    },
    {
      "cell_type": "code",
      "source": [
        "# Load Dataset\n",
        "from google.colab import drive\n",
        "drive.mount('/content/drive')"
      ],
      "metadata": {
        "id": "4CkvbW_SlZ_R"
      },
      "execution_count": null,
      "outputs": []
    },
    {
      "cell_type": "code",
      "source": [
        "file_path='/content/drive/MyDrive/Play Store Data.csv'\n",
        "plys_df=pd.read_csv(file_path)"
      ],
      "metadata": {
        "id": "57O2DWf4Cx-B"
      },
      "execution_count": null,
      "outputs": []
    },
    {
      "cell_type": "markdown",
      "source": [
        "### Dataset First View\n"
      ],
      "metadata": {
        "id": "DLyKBWuMCl3e"
      }
    },
    {
      "cell_type": "code",
      "source": [
        "# Dataset First Look\n",
        "plys_df.head(10)"
      ],
      "metadata": {
        "id": "--rfwWE7CkFl"
      },
      "execution_count": null,
      "outputs": []
    },
    {
      "cell_type": "code",
      "source": [
        "plys_df.tail()"
      ],
      "metadata": {
        "id": "7HCeeviGCSf1"
      },
      "execution_count": null,
      "outputs": []
    },
    {
      "cell_type": "code",
      "source": [
        "pd.concat([plys_df.head(),plys_df.tail()])"
      ],
      "metadata": {
        "id": "LJFNpG2aC91c"
      },
      "execution_count": null,
      "outputs": []
    },
    {
      "cell_type": "markdown",
      "source": [
        "### Dataset Rows & Columns count"
      ],
      "metadata": {
        "id": "7hBIi_osiCS2"
      }
    },
    {
      "cell_type": "code",
      "source": [
        "# Dataset Rows & Columns count\n",
        "print(f\"The dataset has {plys_df.shape[0]} rows and {plys_df.shape[1]} columns.\")\n"
      ],
      "metadata": {
        "id": "Kllu7SJgmLij"
      },
      "execution_count": null,
      "outputs": []
    },
    {
      "cell_type": "markdown",
      "source": [
        "### Dataset Information"
      ],
      "metadata": {
        "id": "JlHwYmJAmNHm"
      }
    },
    {
      "cell_type": "code",
      "source": [
        "# Dataset Info\n",
        "plys_df.info()"
      ],
      "metadata": {
        "id": "e9hRXRi6meOf"
      },
      "execution_count": null,
      "outputs": []
    },
    {
      "cell_type": "markdown",
      "source": [
        "#### Duplicate Values"
      ],
      "metadata": {
        "id": "35m5QtbWiB9F"
      }
    },
    {
      "cell_type": "code",
      "source": [
        "# Dataset Duplicate Value Count\n",
        "duplicated_count= plys_df.duplicated().sum()\n",
        "duplicated_count"
      ],
      "metadata": {
        "id": "1sLdpKYkmox0"
      },
      "execution_count": null,
      "outputs": []
    },
    {
      "cell_type": "markdown",
      "source": [
        "#### Missing Values/Null Values"
      ],
      "metadata": {
        "id": "PoPl-ycgm1ru"
      }
    },
    {
      "cell_type": "code",
      "source": [
        "# Missing Values/Null Values Count\n",
        "missing_values = plys_df.isnull().sum()\n",
        "print(\"Missing values:\\n\", missing_values)"
      ],
      "metadata": {
        "id": "GgHWkxvamxVg"
      },
      "execution_count": null,
      "outputs": []
    },
    {
      "cell_type": "code",
      "source": [
        "# Visualizing the missing values\n",
        "plt.figure(figsize=(10,6))\n",
        "sns.heatmap(plys_df.isna())"
      ],
      "metadata": {
        "id": "3q5wnI3om9sJ"
      },
      "execution_count": null,
      "outputs": []
    },
    {
      "cell_type": "markdown",
      "source": [
        "### What did you know about your dataset?"
      ],
      "metadata": {
        "id": "H0kj-8xxnORC"
      }
    },
    {
      "cell_type": "markdown",
      "source": [
        " The dataset contains information about Android apps available on the Google Play Store.\n",
        "- There are 10841 rows and 13 columns in the dataset.\n",
        "- The columns include app name, category, rating, number of downloads, size, and price.\n",
        "- There are 1181 duplicate rows in the dataset.\n",
        "- There are no missing values in the dataset.\n",
        "\n",
        "**Insights:**\n",
        "\n",
        "- The dataset is relatively large and contains a variety of information about Android apps.\n",
        "- The duplicate rows can be removed to reduce the size of the dataset.\n",
        "- The missing values can be imputed using various techniques.\n",
        "\n",
        "**Business Impact:**\n",
        "\n",
        "- The insights gained from this dataset can be used to improve the quality of apps on the Google Play Store.\n",
        "- The insights can also be used to identify trends and opportunities in the mobile app market.\n"
      ],
      "metadata": {
        "id": "gfoNAAC-nUe_"
      }
    },
    {
      "cell_type": "markdown",
      "source": [
        "## ***2. Understanding Your Variables***"
      ],
      "metadata": {
        "id": "nA9Y7ga8ng1Z"
      }
    },
    {
      "cell_type": "code",
      "source": [
        "# Dataset Columns\n",
        "plys_df.columns"
      ],
      "metadata": {
        "id": "j7xfkqrt5Ag5"
      },
      "execution_count": null,
      "outputs": []
    },
    {
      "cell_type": "code",
      "source": [
        "# Dataset Describe\n",
        "plys_df.describe()"
      ],
      "metadata": {
        "id": "DnOaZdaE5Q5t"
      },
      "execution_count": null,
      "outputs": []
    },
    {
      "cell_type": "markdown",
      "source": [
        "### Variables Description\n"
      ],
      "metadata": {
        "id": "PBTbrJXOngz2"
      }
    },
    {
      "cell_type": "markdown",
      "source": [
        "\n",
        "* **App:** Name of the app\n",
        "* **Category:** Category of the app\n",
        "* **Rating:** Rating of the app\n",
        "* **Reviews:** Number of reviews for the app\n",
        "* **Size:** Size of the app\n",
        "* **Installs:** Number of installs for the app\n",
        "* **Type:** Type of the app (Free or Paid)\n",
        "* **Price:** Price of the app\n",
        "* **Content Rating:** Content rating of the app\n",
        "* **Genres:** Genres of the app\n",
        "* **Last Updated:**Date when the app was last updated\n",
        "* **Android Ver:** Minimum Android version required to install the app.\n",
        "* **Current Ver:** Represents the current version of the app."
      ],
      "metadata": {
        "id": "aJV4KIxSnxay"
      }
    },
    {
      "cell_type": "markdown",
      "source": [
        "### Check Unique Values for each variable."
      ],
      "metadata": {
        "id": "u3PMJOP6ngxN"
      }
    },
    {
      "cell_type": "code",
      "source": [
        "# Check Unique Values for each variable.\n",
        "unique_count= plys_df.nunique()\n",
        "unique_count"
      ],
      "metadata": {
        "id": "zms12Yq5n-jE"
      },
      "execution_count": null,
      "outputs": []
    },
    {
      "cell_type": "markdown",
      "source": [
        "## 3. ***Data Wrangling***"
      ],
      "metadata": {
        "id": "dauF4eBmngu3"
      }
    },
    {
      "cell_type": "markdown",
      "source": [
        "### Data Wrangling Code"
      ],
      "metadata": {
        "id": "bKJF3rekwFvQ"
      }
    },
    {
      "cell_type": "code",
      "source": [
        "# Write your code to make your dataset analysis ready.\n",
        "\n",
        "#creating the user define function which helps to know about different values in the dataset\n",
        "def playstoreinfo():\n",
        "  temp=pd.DataFrame(index=plys_df.columns)\n",
        "  temp[\"datatype\"]=plys_df.dtypes\n",
        "  temp[\"not null values\"]= plys_df.count()\n",
        "  temp[\"null values\"]=plys_df.isnull().sum()\n",
        "  temp[\"% of the null values\"]= plys_df.isnull().mean()\n",
        "  temp[\"unique count\"]= plys_df.nunique()\n",
        "  return temp\n",
        "playstoreinfo()"
      ],
      "metadata": {
        "id": "wk-9a2fpoLcV"
      },
      "execution_count": null,
      "outputs": []
    },
    {
      "cell_type": "code",
      "source": [
        "#checking for the high number of duplicate values in the columns\n",
        "plys_df[plys_df[\"Current Ver\"].isnull()]"
      ],
      "metadata": {
        "id": "KaMHyhCmGpJ4"
      },
      "execution_count": null,
      "outputs": []
    },
    {
      "cell_type": "code",
      "source": [
        "plys_df[plys_df[\"Android Ver\"].isnull()]"
      ],
      "metadata": {
        "id": "JG8Bp5n2IcWY"
      },
      "execution_count": null,
      "outputs": []
    },
    {
      "cell_type": "code",
      "source": [
        "#dropping rows corresponding to the NaN values in the 'Android Ver' and 'current Ver' column\n",
        "plys_df=plys_df.dropna(subset=[\"Current Ver\",\"Android Ver\"])\n",
        "plys_df.shape"
      ],
      "metadata": {
        "id": "_bHknHe3IgS5"
      },
      "execution_count": null,
      "outputs": []
    },
    {
      "cell_type": "code",
      "source": [
        "#checking content rating column for duplicates\n",
        "plys_df[plys_df[\"Content Rating\"].isnull()]\n",
        "\n",
        "#this is showing no duplicates because we have previously dropped the duplicate in the Android Ver columns"
      ],
      "metadata": {
        "id": "VQpSVokjJu-m"
      },
      "execution_count": null,
      "outputs": []
    },
    {
      "cell_type": "code",
      "source": [
        "#checking duplicate in the type column\n",
        "plys_df[plys_df[\"Type\"].isnull()]"
      ],
      "metadata": {
        "id": "IQ8PB8klKmhF"
      },
      "execution_count": null,
      "outputs": []
    },
    {
      "cell_type": "code",
      "source": [
        "#There is only one column with NaN value so we have to check the category of the data present in the Type column\n",
        "plys_df[\"Type\"].value_counts()"
      ],
      "metadata": {
        "id": "k3eoSLWUK9dl"
      },
      "execution_count": null,
      "outputs": []
    },
    {
      "cell_type": "code",
      "source": [
        "#There is more number in free apps so we can adjust it in free category\n",
        "plys_df.loc[9148,\"Type\"]='Free'\n",
        "plys_df.loc[9148]"
      ],
      "metadata": {
        "id": "Yl8ICDuULpOM"
      },
      "execution_count": null,
      "outputs": []
    },
    {
      "cell_type": "code",
      "source": [
        "#Checking Null values in the Rating Column\n",
        "plys_df[plys_df[\"Rating\"].isnull()]"
      ],
      "metadata": {
        "id": "gN5hyiHqMJBc"
      },
      "execution_count": null,
      "outputs": []
    },
    {
      "cell_type": "code",
      "source": [
        "#Filling Nan values in the Rating column\n",
        "plys_df[\"Rating\"]=plys_df[\"Rating\"].fillna(plys_df[\"Rating\"].mean())\n",
        "plys_df.head(25)"
      ],
      "metadata": {
        "id": "1Vy2HIJFMpSM"
      },
      "execution_count": null,
      "outputs": []
    },
    {
      "cell_type": "code",
      "source": [
        "#Checking for if any null value left\n",
        "playstoreinfo()"
      ],
      "metadata": {
        "id": "nlQS4gQx9aa2"
      },
      "execution_count": null,
      "outputs": []
    },
    {
      "cell_type": "markdown",
      "source": [
        "Handling Duplicates\n"
      ],
      "metadata": {
        "id": "Uljhzv1lRwOD"
      }
    },
    {
      "cell_type": "code",
      "source": [
        "plys_df['App'].value_counts()"
      ],
      "metadata": {
        "id": "6XRkxJkuP3K4"
      },
      "execution_count": null,
      "outputs": []
    },
    {
      "cell_type": "code",
      "source": [
        "#checking the total number of duplicate before dropping.\n",
        "plys_df.duplicated().sum()"
      ],
      "metadata": {
        "id": "P6E9v4yKP4Ca"
      },
      "execution_count": null,
      "outputs": []
    },
    {
      "cell_type": "code",
      "source": [
        "plys_df[plys_df['App']=='ROBLOX']"
      ],
      "metadata": {
        "id": "nKiFrhGuUGOQ"
      },
      "execution_count": null,
      "outputs": []
    },
    {
      "cell_type": "code",
      "source": [
        "plys_df[plys_df['App']=='CBS Sports App - Scores, News, Stats & Watch Live']\n"
      ],
      "metadata": {
        "id": "NRmTczU6Uvzi"
      },
      "execution_count": null,
      "outputs": []
    },
    {
      "cell_type": "code",
      "source": [
        "# dropping duplicates from the 'App' column.\n",
        "plys_df.drop_duplicates(subset = 'App', inplace = True)\n",
        "\n"
      ],
      "metadata": {
        "id": "s_QArxZYV_ZR"
      },
      "execution_count": null,
      "outputs": []
    },
    {
      "cell_type": "code",
      "source": [
        "#After dropping duplicates checking for any duplicate value\n",
        "plys_df.duplicated().sum()"
      ],
      "metadata": {
        "id": "G-A3XUBQWQXM"
      },
      "execution_count": null,
      "outputs": []
    },
    {
      "cell_type": "markdown",
      "source": [
        "Changing Data type which are not in their valid Data types"
      ],
      "metadata": {
        "id": "gDuZWvQXZDty"
      }
    },
    {
      "cell_type": "code",
      "source": [
        "#It is not showing all the valid data except Rating because Rating is in float datatype\n",
        "plys_df.describe()"
      ],
      "metadata": {
        "id": "wr1t4gpjWxtB"
      },
      "execution_count": null,
      "outputs": []
    },
    {
      "cell_type": "markdown",
      "source": [
        "**\"Reviews\"**"
      ],
      "metadata": {
        "id": "Yx_-UQdFeZbx"
      }
    },
    {
      "cell_type": "code",
      "source": [
        "#1 Changing Reviews Datatype from string to int\n",
        "plys_df['Reviews']=plys_df['Reviews'].astype(int)"
      ],
      "metadata": {
        "id": "BDCvHIsOWxpX"
      },
      "execution_count": null,
      "outputs": []
    },
    {
      "cell_type": "markdown",
      "source": [
        " **\"Size\"**"
      ],
      "metadata": {
        "id": "JVsC_CQeejk9"
      }
    },
    {
      "cell_type": "code",
      "source": [
        "#2 Converting Size datatype from string to Float\n",
        "plys_df['Size'].value_counts()"
      ],
      "metadata": {
        "id": "T922GFmLWxmt"
      },
      "execution_count": null,
      "outputs": []
    },
    {
      "cell_type": "code",
      "source": [
        "\"\"\"\n",
        "Creating an user define function that converts all the values\n",
        "in KB to MB and then convert them into float datatype\n",
        "\"\"\"\n",
        "def kb_to_mb(val):\n",
        "  try:\n",
        "\n",
        "    if 'M' in val:\n",
        "      return float(val[:-1])\n",
        "    elif 'k' in val:\n",
        "      return round(float(val[:-1])/1024, 4)\n",
        "    else:\n",
        "      return val\n",
        "  except:\n",
        "    return val\n"
      ],
      "metadata": {
        "id": "wHI7eYtZWxjz"
      },
      "execution_count": null,
      "outputs": []
    },
    {
      "cell_type": "code",
      "source": [
        "#Applying kb_to_mb function into size column to remove complexities\n",
        "plys_df[\"Size\"]=plys_df[\"Size\"].apply(kb_to_mb)"
      ],
      "metadata": {
        "id": "vq7fgQVJWxcC"
      },
      "execution_count": null,
      "outputs": []
    },
    {
      "cell_type": "code",
      "source": [
        "plys_df[plys_df[\"Size\"].isnull()]"
      ],
      "metadata": {
        "id": "puVOvyzC8u_m"
      },
      "execution_count": null,
      "outputs": []
    },
    {
      "cell_type": "code",
      "source": [
        "plys_df=plys_df.dropna(subset=['Size'])"
      ],
      "metadata": {
        "id": "YyrlcZYl9B9o"
      },
      "execution_count": null,
      "outputs": []
    },
    {
      "cell_type": "code",
      "source": [
        "plys_df[\"Size\"].value_counts()"
      ],
      "metadata": {
        "id": "TYSUgvGrWxLz"
      },
      "execution_count": null,
      "outputs": []
    },
    {
      "cell_type": "code",
      "source": [
        "#converting Size coulumn into float data type.\n",
        "plys_df['Size'] = plys_df['Size'].apply(lambda x: str(x).replace('Varies with device', 'NaN') if 'Varies with device' in str(x) else x)\n",
        "plys_df['Size'] = plys_df['Size'].apply(lambda x: float(x))"
      ],
      "metadata": {
        "id": "4zmWmoW2homO"
      },
      "execution_count": null,
      "outputs": []
    },
    {
      "cell_type": "code",
      "source": [
        "plys_df.describe()"
      ],
      "metadata": {
        "id": "tfm2oiuIhpSd"
      },
      "execution_count": null,
      "outputs": []
    },
    {
      "cell_type": "markdown",
      "source": [
        "**Installs**"
      ],
      "metadata": {
        "id": "KRsOAt-jjJND"
      }
    },
    {
      "cell_type": "code",
      "source": [
        "#Checking the values of Installs columns\n",
        "plys_df[\"Installs\"].value_counts()"
      ],
      "metadata": {
        "id": "qBWFJQsbhpfy"
      },
      "execution_count": null,
      "outputs": []
    },
    {
      "cell_type": "code",
      "source": [
        "\"\"\"\n",
        "Creating an user define function that drop the \"+\" and \",\"\n",
        "from the values in the \"Install\" column\n",
        "\"\"\"\n",
        "def drop_plus(val):\n",
        "  if \"+\" and \",\" in val:\n",
        "    new1=int(val[:-1].replace(',',''))\n",
        "    return new1\n",
        "  elif \"+\" in val:\n",
        "    new2=int(val[:-1])\n",
        "    return new2\n",
        "  else:\n",
        "    return val\n",
        "\n"
      ],
      "metadata": {
        "id": "6sEf2z5QhqFw"
      },
      "execution_count": null,
      "outputs": []
    },
    {
      "cell_type": "code",
      "source": [
        "#Applying the drop_plus function in the \"Install\" column\n",
        "plys_df[\"Installs\"]=plys_df[\"Installs\"].apply(drop_plus)"
      ],
      "metadata": {
        "id": "n8tEV0ekjet0"
      },
      "execution_count": null,
      "outputs": []
    },
    {
      "cell_type": "code",
      "source": [
        "#After removing \"+\" and \",\"\n",
        "plys_df[\"Installs\"].value_counts()"
      ],
      "metadata": {
        "id": "i_44R7AGjf0G"
      },
      "execution_count": null,
      "outputs": []
    },
    {
      "cell_type": "code",
      "source": [
        "#Converting datatyp of \"Installs\" from object to int\n",
        "plys_df[\"Installs\"]=plys_df[\"Installs\"].astype(int)"
      ],
      "metadata": {
        "id": "GY5c4l80t9aI"
      },
      "execution_count": null,
      "outputs": []
    },
    {
      "cell_type": "markdown",
      "source": [
        "**Price**"
      ],
      "metadata": {
        "id": "8Sj77GWknp92"
      }
    },
    {
      "cell_type": "code",
      "source": [
        "plys_df[\"Price\"].value_counts()"
      ],
      "metadata": {
        "id": "xi3G10jmjgLb"
      },
      "execution_count": null,
      "outputs": []
    },
    {
      "cell_type": "code",
      "source": [
        "\"\"\"\n",
        "Creating an user define function which drop the dollar ($) symbol\n",
        "from the \"Price\" column\n",
        "\"\"\"\n",
        "def drop_dollar(val):\n",
        "  if \"$\" in val:\n",
        "    return float(val[1:])\n",
        "  else:\n",
        "    return float(val)"
      ],
      "metadata": {
        "id": "ds2ctEL1jggN"
      },
      "execution_count": null,
      "outputs": []
    },
    {
      "cell_type": "code",
      "source": [
        "#Applying drop_dollar function in the \"Price\" column\n",
        "plys_df[\"Price\"]=plys_df[\"Price\"].apply(drop_dollar)"
      ],
      "metadata": {
        "id": "1wPx-qoxoeZY"
      },
      "execution_count": null,
      "outputs": []
    },
    {
      "cell_type": "code",
      "source": [
        "plys_df[\"Price\"].value_counts()"
      ],
      "metadata": {
        "id": "6Ttu2l2Yo3q6"
      },
      "execution_count": null,
      "outputs": []
    },
    {
      "cell_type": "markdown",
      "source": [
        "**Last update**"
      ],
      "metadata": {
        "id": "DuIZhrdAqNxL"
      }
    },
    {
      "cell_type": "code",
      "source": [
        "plys_df[\"Last Updated\"].value_counts()"
      ],
      "metadata": {
        "id": "YD9WRKFXqNcy"
      },
      "execution_count": null,
      "outputs": []
    },
    {
      "cell_type": "code",
      "source": [
        "print(plys_df[\"Last Updated\"].dtype) #Here the datatype is (object) so we have to convert it into the date time datatype"
      ],
      "metadata": {
        "id": "zMLIYuwQqlQk"
      },
      "execution_count": null,
      "outputs": []
    },
    {
      "cell_type": "code",
      "source": [
        "#Converting \"Last Updated\" column into date-time datatype\n",
        "plys_df[\"Last Updated\"]=pd.to_datetime(plys_df[\"Last Updated\"])"
      ],
      "metadata": {
        "id": "BWRmQaVdqlF4"
      },
      "execution_count": null,
      "outputs": []
    },
    {
      "cell_type": "code",
      "source": [
        "# column converted to Date format\n",
        "plys_df[\"Last Updated\"].value_counts()"
      ],
      "metadata": {
        "id": "UAmDHdAXrklU"
      },
      "execution_count": null,
      "outputs": []
    },
    {
      "cell_type": "code",
      "source": [
        "plys_df.describe()"
      ],
      "metadata": {
        "id": "WS5BcPyxtgXb"
      },
      "execution_count": null,
      "outputs": []
    },
    {
      "cell_type": "code",
      "source": [
        "#checking if data is ready for visualization\n",
        "plys_df.info()"
      ],
      "metadata": {
        "id": "lFLP0ZS378_S"
      },
      "execution_count": null,
      "outputs": []
    },
    {
      "cell_type": "markdown",
      "source": [
        "# **User_review dataframe**"
      ],
      "metadata": {
        "id": "mdSHIntcF-Ri"
      }
    },
    {
      "cell_type": "code",
      "source": [
        "file_path2='/content/drive/MyDrive/User Reviews.csv'\n",
        "ur_df=pd.read_csv(file_path2)\n"
      ],
      "metadata": {
        "id": "6hXsvqzsGI0S"
      },
      "execution_count": null,
      "outputs": []
    },
    {
      "cell_type": "code",
      "source": [
        "# Dataset First Look\n",
        "user_review= pd.concat([ur_df.head(),ur_df.tail()])\n",
        "user_review\n",
        "\n"
      ],
      "metadata": {
        "id": "tvBVrpntGuoc"
      },
      "execution_count": null,
      "outputs": []
    },
    {
      "cell_type": "code",
      "source": [
        "# Dataset Rows & Columns count\n",
        "print(f\"The dataset has {ur_df.shape[0]} rows and {ur_df.shape[1]} columns.\")"
      ],
      "metadata": {
        "id": "_JoR1X23HZAj"
      },
      "execution_count": null,
      "outputs": []
    },
    {
      "cell_type": "markdown",
      "source": [
        "****"
      ],
      "metadata": {
        "id": "GYBqduFor1XX"
      }
    },
    {
      "cell_type": "code",
      "source": [
        "# Dataset Info\n",
        "ur_df.info()"
      ],
      "metadata": {
        "id": "4KdYDkueHxLa"
      },
      "execution_count": null,
      "outputs": []
    },
    {
      "cell_type": "code",
      "source": [
        "ur_df.duplicated().sum()"
      ],
      "metadata": {
        "id": "TyqWSQLfTIQE"
      },
      "execution_count": null,
      "outputs": []
    },
    {
      "cell_type": "code",
      "source": [
        "# Dataset Duplicate Value Count\n",
        "ur_df_duplicated= ur_df.duplicated().sum()\n",
        "ur_df_duplicated"
      ],
      "metadata": {
        "id": "iGXRjp3dH_nO"
      },
      "execution_count": null,
      "outputs": []
    },
    {
      "cell_type": "code",
      "source": [
        "#Dropping Duplicates\n",
        "ur_df.drop_duplicates(inplace=True)\n"
      ],
      "metadata": {
        "id": "L2UX_CcZSsux"
      },
      "execution_count": null,
      "outputs": []
    },
    {
      "cell_type": "code",
      "source": [
        "ur_df.duplicated().sum()"
      ],
      "metadata": {
        "id": "lGc5H6m2TXjo"
      },
      "execution_count": null,
      "outputs": []
    },
    {
      "cell_type": "code",
      "source": [
        "# Missing Values/Null Values Count\n",
        "ur_missing_values = ur_df.isnull().sum()\n",
        "print(\"Missing values:\\n\", ur_missing_values)"
      ],
      "metadata": {
        "id": "Lnm-2sBLI8tV"
      },
      "execution_count": null,
      "outputs": []
    },
    {
      "cell_type": "code",
      "source": [
        "# Visualizing the missing values\n",
        "plt.figure(figsize=(10,6))\n",
        "sns.heatmap(ur_df.isna())"
      ],
      "metadata": {
        "id": "98bCcGTvJP-6"
      },
      "execution_count": null,
      "outputs": []
    },
    {
      "cell_type": "code",
      "source": [
        "# Dataset Columns\n",
        "ur_df.columns"
      ],
      "metadata": {
        "id": "kCPFx7s8NqQn"
      },
      "execution_count": null,
      "outputs": []
    },
    {
      "cell_type": "code",
      "source": [
        "ur_df.describe()"
      ],
      "metadata": {
        "id": "Mz3_hZgmOCLb"
      },
      "execution_count": null,
      "outputs": []
    },
    {
      "cell_type": "markdown",
      "source": [
        "### Data cleaning User_Review\n"
      ],
      "metadata": {
        "id": "crfHaGQeOPY_"
      }
    },
    {
      "cell_type": "code",
      "source": [
        "#creating the user define function which helps to know about different values in the dataset\n",
        "def reviews_info():\n",
        "  temp1=pd.DataFrame(index=ur_df.columns)\n",
        "  temp1[\"datatype\"]=ur_df.dtypes\n",
        "  temp1[\"not null values\"]= ur_df.count()\n",
        "  temp1[\"null values\"]=ur_df.isnull().sum()\n",
        "  temp1[\"% of the null values\"]= ur_df.isnull().mean()\n",
        "  temp1[\"unique count\"]= ur_df.nunique()\n",
        "  return temp1\n",
        "reviews_info()"
      ],
      "metadata": {
        "id": "0UAJ4Mi7PTpA"
      },
      "execution_count": null,
      "outputs": []
    },
    {
      "cell_type": "code",
      "source": [
        "ur_df.columns"
      ],
      "metadata": {
        "id": "isUs0LajQNUE"
      },
      "execution_count": null,
      "outputs": []
    },
    {
      "cell_type": "code",
      "source": [
        "ur_df[ur_df[\"App\"].isnull()]"
      ],
      "metadata": {
        "id": "3wHbv-mwR9Ry"
      },
      "execution_count": null,
      "outputs": []
    },
    {
      "cell_type": "code",
      "source": [
        "ur_df[ur_df[\"Translated_Review\"].isnull()]"
      ],
      "metadata": {
        "id": "J3xoTgVySJbA"
      },
      "execution_count": null,
      "outputs": []
    },
    {
      "cell_type": "code",
      "source": [
        "ur_df[\"Translated_Review\"].value_counts()"
      ],
      "metadata": {
        "id": "1LHY_AuOSRKQ"
      },
      "execution_count": null,
      "outputs": []
    },
    {
      "cell_type": "code",
      "source": [
        "ur_df[ur_df[\"Sentiment\"].isnull()]"
      ],
      "metadata": {
        "id": "GN1gfFa5SGf0"
      },
      "execution_count": null,
      "outputs": []
    },
    {
      "cell_type": "code",
      "source": [
        "# The shape before dropping ur_df\n",
        "ur_df.shape"
      ],
      "metadata": {
        "id": "1tSh_5xxSxds"
      },
      "execution_count": null,
      "outputs": []
    },
    {
      "cell_type": "code",
      "source": [
        "# Deleting the rows containing NaN values\n",
        "ur_df = ur_df.dropna()"
      ],
      "metadata": {
        "id": "zbVkLlcJSwu3"
      },
      "execution_count": null,
      "outputs": []
    },
    {
      "cell_type": "code",
      "source": [
        "# The shape after dropping ur_df\n",
        "ur_df.shape"
      ],
      "metadata": {
        "id": "H6FPryB9TKYa"
      },
      "execution_count": null,
      "outputs": []
    },
    {
      "cell_type": "code",
      "source": [
        "# dataframe after Cleaning\n",
        "ur_df"
      ],
      "metadata": {
        "id": "nYp0SlhWUs78"
      },
      "execution_count": null,
      "outputs": []
    },
    {
      "cell_type": "code",
      "source": [
        "#checking if any null value let in the dataframe\n",
        "ur_df.isnull().count()"
      ],
      "metadata": {
        "id": "cU21MgayWutE"
      },
      "execution_count": null,
      "outputs": []
    },
    {
      "cell_type": "markdown",
      "source": [
        "### What all manipulations have you done and insights you found?"
      ],
      "metadata": {
        "id": "MSa1f5Uengrz"
      }
    },
    {
      "cell_type": "markdown",
      "source": [
        "Answer Here."
      ],
      "metadata": {
        "id": "LbyXE7I1olp8"
      }
    },
    {
      "cell_type": "markdown",
      "source": [
        "## ***4. Data Vizualization, Storytelling & Experimenting with charts : Understand the relationships between variables***"
      ],
      "metadata": {
        "id": "GF8Ens_Soomf"
      }
    },
    {
      "cell_type": "code",
      "source": [
        "plys_df.columns"
      ],
      "metadata": {
        "id": "qZISgtKpalV2"
      },
      "execution_count": null,
      "outputs": []
    },
    {
      "cell_type": "markdown",
      "source": [
        "#### Chart - 1"
      ],
      "metadata": {
        "id": "0wOQAZs5pc--"
      }
    },
    {
      "cell_type": "code",
      "source": [
        "# Chart - 1 visualization code\n",
        "# Barplot to compare categorical variables with numerical variables\n",
        "plt.figure(figsize=(15, 6))\n",
        "sns.barplot(x='Category', y='Rating', data=plys_df)\n",
        "plt.title('Average Rating by Category')\n",
        "plt.xticks(rotation=90)\n",
        "plt.show()\n"
      ],
      "metadata": {
        "id": "7v_ESjsspbW7"
      },
      "execution_count": null,
      "outputs": []
    },
    {
      "cell_type": "markdown",
      "source": [
        "##### 1. Why did you pick the specific chart?"
      ],
      "metadata": {
        "id": "K5QZ13OEpz2H"
      }
    },
    {
      "cell_type": "markdown",
      "source": [
        "To compare different rating of various categories and find the highest avg rating\n"
      ],
      "metadata": {
        "id": "XESiWehPqBRc"
      }
    },
    {
      "cell_type": "markdown",
      "source": [
        "##### 2. What is/are the insight(s) found from the chart?"
      ],
      "metadata": {
        "id": "lQ7QKXXCp7Bj"
      }
    },
    {
      "cell_type": "markdown",
      "source": [
        "The category with the highest average rating is: ART_AND_DESIGN\n"
      ],
      "metadata": {
        "id": "C_j1G7yiqdRP"
      }
    },
    {
      "cell_type": "markdown",
      "source": [
        "##### 3. Will the gained insights help creating a positive business impact?\n",
        "Are there any insights that lead to negative growth? Justify with specific reason."
      ],
      "metadata": {
        "id": "448CDAPjqfQr"
      }
    },
    {
      "cell_type": "markdown",
      "source": [
        "Yes, the gained insights can help create a positive business impact. By identifying the categories with the highest and lowest average ratings, businesses can focus on improving the quality of their apps in those categories. This can lead to increased user satisfaction and retention, which can ultimately boost revenue.\n",
        "\n"
      ],
      "metadata": {
        "id": "3cspy4FjqxJW"
      }
    },
    {
      "cell_type": "markdown",
      "source": [
        "#### Chart - 2"
      ],
      "metadata": {
        "id": "KSlN3yHqYklG"
      }
    },
    {
      "cell_type": "code",
      "source": [
        "# Chart - 2 visualization code\n",
        "plt.figure(figsize=(6,5))\n",
        "sns.countplot(plys_df['Content Rating'])\n",
        "plt.title(\"Number of Apps By Content Rating \")\n",
        "plt.ylabel('Number of Apps')\n",
        "plt.show()"
      ],
      "metadata": {
        "id": "R4YgtaqtYklH"
      },
      "execution_count": null,
      "outputs": []
    },
    {
      "cell_type": "markdown",
      "source": [
        "##### 1. Why did you pick the specific chart?"
      ],
      "metadata": {
        "id": "t6dVpIINYklI"
      }
    },
    {
      "cell_type": "markdown",
      "source": [
        "To visualize the number of apps in each content rating category"
      ],
      "metadata": {
        "id": "5aaW0BYyYklI"
      }
    },
    {
      "cell_type": "markdown",
      "source": [
        "##### 2. What is/are the insight(s) found from the chart?"
      ],
      "metadata": {
        "id": "ijmpgYnKYklI"
      }
    },
    {
      "cell_type": "markdown",
      "source": [
        "The majority of the apps in the dataset are rated as \"Everyone\"."
      ],
      "metadata": {
        "id": "PSx9atu2YklI"
      }
    },
    {
      "cell_type": "markdown",
      "source": [
        "##### 3. Will the gained insights help creating a positive business impact?\n",
        "Are there any insights that lead to negative growth? Justify with specific reason."
      ],
      "metadata": {
        "id": "-JiQyfWJYklI"
      }
    },
    {
      "cell_type": "markdown",
      "source": [
        "Yes, the gained insights will help in creating a positive business impact.\n",
        "\n",
        "By identifying the content rating with the highest number of apps, businesses can target their marketing efforts towards that specific category. This can lead to increased app downloads and revenue.\n",
        "\n",
        "There are no insights that lead to negative growth."
      ],
      "metadata": {
        "id": "BcBbebzrYklV"
      }
    },
    {
      "cell_type": "markdown",
      "source": [
        "#### Chart - 3"
      ],
      "metadata": {
        "id": "EM7whBJCYoAo"
      }
    },
    {
      "cell_type": "code",
      "source": [
        "# Chart - 3 visualization code\n",
        "data = plys_df['Type'].value_counts()\n",
        "labels = ['Free', 'Paid']\n",
        "\n",
        "# create pie chart\n",
        "plt.figure(figsize=(5,5))\n",
        "plt.pie(data, labels = labels, autopct='%.2f%%',)\n",
        "plt.title('Distribution of Paid and Free apps')\n",
        "plt.legend()"
      ],
      "metadata": {
        "id": "t6GMdE67YoAp"
      },
      "execution_count": null,
      "outputs": []
    },
    {
      "cell_type": "markdown",
      "source": [
        "##### 1. Why did you pick the specific chart?"
      ],
      "metadata": {
        "id": "fge-S5ZAYoAp"
      }
    },
    {
      "cell_type": "markdown",
      "source": [
        "To visualize the distribution of free and paid apps in the dataset."
      ],
      "metadata": {
        "id": "5dBItgRVYoAp"
      }
    },
    {
      "cell_type": "markdown",
      "source": [
        "##### 2. What is/are the insight(s) found from the chart?"
      ],
      "metadata": {
        "id": "85gYPyotYoAp"
      }
    },
    {
      "cell_type": "markdown",
      "source": [
        "The majority of the apps in the dataset are free (92.20%)."
      ],
      "metadata": {
        "id": "4jstXR6OYoAp"
      }
    },
    {
      "cell_type": "markdown",
      "source": [
        "##### 3. Will the gained insights help creating a positive business impact?\n",
        "Are there any insights that lead to negative growth? Justify with specific reason."
      ],
      "metadata": {
        "id": "RoGjAbkUYoAp"
      }
    },
    {
      "cell_type": "markdown",
      "source": [
        " Yes, the gained insights can help create a positive business impact. By identifying the majority of the apps are free, businesses can focus on developing more free apps to attract more users. This can lead to increased app downloads and revenue.\n"
      ],
      "metadata": {
        "id": "zfJ8IqMcYoAp"
      }
    },
    {
      "cell_type": "markdown",
      "source": [
        "#### Chart - 4"
      ],
      "metadata": {
        "id": "4Of9eVA-YrdM"
      }
    },
    {
      "cell_type": "code",
      "source": [
        "# Chart - 4 visualization code\n",
        "# Create a histogram to visualize the distribution of app ratings.\n",
        "plt.figure(figsize=(10, 6))\n",
        "sns.histplot(plys_df['Rating'], bins=50)\n",
        "plt.title('Distribution of App Ratings')\n",
        "plt.xlabel('Rating')\n",
        "plt.ylabel('Number of Apps')\n",
        "plt.show()\n"
      ],
      "metadata": {
        "id": "irlUoxc8YrdO"
      },
      "execution_count": null,
      "outputs": []
    },
    {
      "cell_type": "markdown",
      "source": [
        "##### 1. Why did you pick the specific chart?"
      ],
      "metadata": {
        "id": "iky9q4vBYrdO"
      }
    },
    {
      "cell_type": "markdown",
      "source": [
        "To visualize the distribution of app ratings in the dataset."
      ],
      "metadata": {
        "id": "aJRCwT6DYrdO"
      }
    },
    {
      "cell_type": "markdown",
      "source": [
        "##### 2. What is/are the insight(s) found from the chart?"
      ],
      "metadata": {
        "id": "F6T5p64dYrdO"
      }
    },
    {
      "cell_type": "markdown",
      "source": [
        "The majority of the apps have a rating between 4 and 5."
      ],
      "metadata": {
        "id": "Xx8WAJvtYrdO"
      }
    },
    {
      "cell_type": "markdown",
      "source": [
        "##### 3. Will the gained insights help creating a positive business impact?\n",
        "Are there any insights that lead to negative growth? Justify with specific reason."
      ],
      "metadata": {
        "id": "y-Ehk30pYrdP"
      }
    },
    {
      "cell_type": "markdown",
      "source": [
        "Yes, the gained insights can help create a positive business impact. By identifying the majority of the apps have a rating between 4 and 5, businesses can focus on improving the quality of their apps to achieve a higher rating. This can lead to increased user satisfaction and retention, which can ultimately boost revenue.\n"
      ],
      "metadata": {
        "id": "jLNxxz7MYrdP"
      }
    },
    {
      "cell_type": "markdown",
      "source": [
        "#### Chart - 5"
      ],
      "metadata": {
        "id": "bamQiAODYuh1"
      }
    },
    {
      "cell_type": "code",
      "source": [
        "# Chart - 5 visualization code\n",
        "# Create a scatter plot to visualize the relationship between app rating and number of reviews.\n",
        "plt.figure(figsize=(10, 6))\n",
        "sns.scatterplot(x='Rating', y='Reviews', data=plys_df)\n",
        "plt.title('Relationship between Rating and Reviews')\n",
        "plt.xlabel('Rating')\n",
        "plt.ylabel('Number of Reviews')\n",
        "plt.show()\n",
        "\n"
      ],
      "metadata": {
        "id": "TIJwrbroYuh3"
      },
      "execution_count": null,
      "outputs": []
    },
    {
      "cell_type": "markdown",
      "source": [
        "##### 1. Why did you pick the specific chart?"
      ],
      "metadata": {
        "id": "QHF8YVU7Yuh3"
      }
    },
    {
      "cell_type": "markdown",
      "source": [
        "To visualize the relationship between app rating and number of reviews."
      ],
      "metadata": {
        "id": "dcxuIMRPYuh3"
      }
    },
    {
      "cell_type": "markdown",
      "source": [
        "##### 2. What is/are the insight(s) found from the chart?"
      ],
      "metadata": {
        "id": "GwzvFGzlYuh3"
      }
    },
    {
      "cell_type": "markdown",
      "source": [
        "There is a positive correlation between app rating and number of reviews. This means that apps with higher ratings tend to have more reviews.\n"
      ],
      "metadata": {
        "id": "uyqkiB8YYuh3"
      }
    },
    {
      "cell_type": "markdown",
      "source": [
        "##### 3. Will the gained insights help creating a positive business impact?\n",
        "Are there any insights that lead to negative growth? Justify with specific reason."
      ],
      "metadata": {
        "id": "qYpmQ266Yuh3"
      }
    },
    {
      "cell_type": "markdown",
      "source": [
        "Yes, the gained insights can help create a positive business impact. By identifying the relationship between app rating and number of reviews, businesses can focus on improving the quality of their apps to achieve a higher rating. This can lead to increased user satisfaction and retention, which can ultimately boost revenue.\n"
      ],
      "metadata": {
        "id": "_WtzZ_hCYuh4"
      }
    },
    {
      "cell_type": "markdown",
      "source": [
        "#### Chart - 6"
      ],
      "metadata": {
        "id": "OH-pJp9IphqM"
      }
    },
    {
      "cell_type": "code",
      "source": [
        "# Chart - 6 visualization code\n",
        "# Create a boxplot to visualize the distribution of app ratings for each category.\n",
        "plt.figure(figsize=(50,10))\n",
        "sns.boxplot(x='Category', y='Rating', data=plys_df)\n",
        "plt.title('Distribution of Ratings by Category')\n",
        "plt.xlabel('Category')\n",
        "plt.ylabel('Rating')\n",
        "plt.show()"
      ],
      "metadata": {
        "id": "kuRf4wtuphqN"
      },
      "execution_count": null,
      "outputs": []
    },
    {
      "cell_type": "markdown",
      "source": [
        "##### 1. Why did you pick the specific chart?"
      ],
      "metadata": {
        "id": "bbFf2-_FphqN"
      }
    },
    {
      "cell_type": "markdown",
      "source": [
        "To visualize the distribution of ratings across different categories."
      ],
      "metadata": {
        "id": "loh7H2nzphqN"
      }
    },
    {
      "cell_type": "markdown",
      "source": [
        "##### 2. What is/are the insight(s) found from the chart?"
      ],
      "metadata": {
        "id": "_ouA3fa0phqN"
      }
    },
    {
      "cell_type": "markdown",
      "source": [
        "There is a significant variation in the distribution of ratings across different categories. For example, the \"ART_AND_DESIGN\" category has a higher median rating compared to the \"FAMILY\" category."
      ],
      "metadata": {
        "id": "VECbqPI7phqN"
      }
    },
    {
      "cell_type": "markdown",
      "source": [
        "##### 3. Will the gained insights help creating a positive business impact?\n",
        "Are there any insights that lead to negative growth? Justify with specific reason."
      ],
      "metadata": {
        "id": "Seke61FWphqN"
      }
    },
    {
      "cell_type": "markdown",
      "source": [
        "Yes, the gained insights can help create a positive business impact. By identifying the categories with higher ratings, businesses can focus on developing more apps in those categories. This can lead to increased app downloads and revenue.\n"
      ],
      "metadata": {
        "id": "DW4_bGpfphqN"
      }
    },
    {
      "cell_type": "markdown",
      "source": [
        "#### Chart - 7"
      ],
      "metadata": {
        "id": "PIIx-8_IphqN"
      }
    },
    {
      "cell_type": "code",
      "source": [
        "# Chart - 7 visualization code\n",
        "# Merge the two dataframes based on the \"App\" column.\n",
        "merged_df = pd.merge(plys_df, ur_df, on=\"App\", how=\"inner\")\n",
        "\n",
        "# Create a bar chart to show the distribution of app ratings by sentiment.\n",
        "plt.figure(figsize=(10, 6))\n",
        "sns.countplot(x='Rating', hue='Sentiment', data=merged_df)\n",
        "plt.title('Distribution of Ratings by Sentiment')\n",
        "plt.xlabel('Rating')\n",
        "plt.ylabel('Number of Reviews')\n",
        "plt.show()\n",
        "\n"
      ],
      "metadata": {
        "id": "lqAIGUfyphqO"
      },
      "execution_count": null,
      "outputs": []
    },
    {
      "cell_type": "markdown",
      "source": [
        "##### 1. Why did you pick the specific chart?"
      ],
      "metadata": {
        "id": "t27r6nlMphqO"
      }
    },
    {
      "cell_type": "markdown",
      "source": [
        "To visualize the distribution of app ratings by sentiment.\n"
      ],
      "metadata": {
        "id": "iv6ro40sphqO"
      }
    },
    {
      "cell_type": "markdown",
      "source": [
        "##### 2. What is/are the insight(s) found from the chart?"
      ],
      "metadata": {
        "id": "r2jJGEOYphqO"
      }
    },
    {
      "cell_type": "markdown",
      "source": [
        "There is a higher proportion of positive reviews for apps with higher ratings.\n"
      ],
      "metadata": {
        "id": "Po6ZPi4hphqO"
      }
    },
    {
      "cell_type": "markdown",
      "source": [
        "##### 3. Will the gained insights help creating a positive business impact?\n",
        "Are there any insights that lead to negative growth? Justify with specific reason."
      ],
      "metadata": {
        "id": "b0JNsNcRphqO"
      }
    },
    {
      "cell_type": "markdown",
      "source": [
        "\n",
        "Yes, the gained insights can help create a positive business impact. By identifying the sentiment of reviews for different app ratings, businesses can focus on improving the quality of their apps to achieve a higher rating. This can lead to increased user satisfaction and retention, which can ultimately boost revenue.\n"
      ],
      "metadata": {
        "id": "xvSq8iUTphqO"
      }
    },
    {
      "cell_type": "markdown",
      "source": [
        "#### Chart - 8"
      ],
      "metadata": {
        "id": "BZR9WyysphqO"
      }
    },
    {
      "cell_type": "code",
      "source": [
        "# Chart - 8 visualization code\n",
        "data_ur= ur_df['Sentiment'].value_counts()\n",
        "labels_ur= ['Positive', 'Negative','Neutral']\n",
        "#create pie chart\n",
        "plt.figure(figsize=(5,5))\n",
        "plt.pie(data_ur, labels = labels_ur, autopct='%.2f%%',)\n",
        "plt.title('Distribution different sentiments')\n",
        "plt.legend()\n"
      ],
      "metadata": {
        "id": "TdPTWpAVphqO"
      },
      "execution_count": null,
      "outputs": []
    },
    {
      "cell_type": "markdown",
      "source": [
        "##### 1. Why did you pick the specific chart?"
      ],
      "metadata": {
        "id": "jj7wYXLtphqO"
      }
    },
    {
      "cell_type": "markdown",
      "source": [
        " A pie chart is a suitable choice for visualizing the distribution of categorical data, such as the sentiment of reviews. It allows for easy comparison of the proportions of different categories.\n"
      ],
      "metadata": {
        "id": "Ob8u6rCTphqO"
      }
    },
    {
      "cell_type": "markdown",
      "source": [
        "##### 2. What is/are the insight(s) found from the chart?"
      ],
      "metadata": {
        "id": "eZrbJ2SmphqO"
      }
    },
    {
      "cell_type": "markdown",
      "source": [
        "The majority of the reviews in the dataset are positive (61.04%). This is a good indicator of overall user satisfaction with the apps in the dataset.\n"
      ],
      "metadata": {
        "id": "mZtgC_hjphqO"
      }
    },
    {
      "cell_type": "markdown",
      "source": [
        "##### 3. Will the gained insights help creating a positive business impact?\n",
        "Are there any insights that lead to negative growth? Justify with specific reason."
      ],
      "metadata": {
        "id": "rFu4xreNphqO"
      }
    },
    {
      "cell_type": "markdown",
      "source": [
        "Yes, the gained insights can help create a positive business impact. By understanding the sentiment of reviews, businesses can identify areas where they can improve their apps to increase user satisfaction. This can lead to increased app downloads and revenue.\n"
      ],
      "metadata": {
        "id": "ey_0qi68phqO"
      }
    },
    {
      "cell_type": "markdown",
      "source": [
        "#### Chart - 9"
      ],
      "metadata": {
        "id": "YJ55k-q6phqO"
      }
    },
    {
      "cell_type": "code",
      "source": [
        "# Chart - 9 visualization code\n",
        "# total app installs in each category of the play store\n",
        "\n",
        "a = plys_df.groupby(['Category'])['Installs'].sum().sort_values()\n",
        "a.plot.barh(figsize=(15,10), color = 'blue', )\n",
        "plt.ylabel('Total app Installs', fontsize = 15)\n",
        "plt.xlabel('App Categories', fontsize = 15)\n",
        "plt.xticks()\n",
        "plt.title('Total app installs in each category', fontsize = 20)"
      ],
      "metadata": {
        "id": "B2aS4O1ophqO"
      },
      "execution_count": null,
      "outputs": []
    },
    {
      "cell_type": "markdown",
      "source": [
        "##### 1. Why did you pick the specific chart?"
      ],
      "metadata": {
        "id": "gCFgpxoyphqP"
      }
    },
    {
      "cell_type": "markdown",
      "source": [
        "A horizontal bar chart is a suitable choice for visualizing the data because it allows for easy comparison of the total installs for each category. The bars are arranged in descending order, making it easy to see which categories have the highest and lowest number of installs.\n"
      ],
      "metadata": {
        "id": "TVxDimi2phqP"
      }
    },
    {
      "cell_type": "markdown",
      "source": [
        "##### 2. What is/are the insight(s) found from the chart?"
      ],
      "metadata": {
        "id": "OVtJsKN_phqQ"
      }
    },
    {
      "cell_type": "markdown",
      "source": [
        "The chart shows that the \"GAME\" category has the highest total installs, followed by the \"FAMILY\" and \"TOOLS\" categories. This suggests that these categories are the most popular among users.\n"
      ],
      "metadata": {
        "id": "ngGi97qjphqQ"
      }
    },
    {
      "cell_type": "markdown",
      "source": [
        "##### 3. Will the gained insights help creating a positive business impact?\n",
        "Are there any insights that lead to negative growth? Justify with specific reason."
      ],
      "metadata": {
        "id": "lssrdh5qphqQ"
      }
    },
    {
      "cell_type": "markdown",
      "source": [
        "Yes, the gained insights can help create a positive business impact. By understanding which categories are the most popular, businesses can focus on developing more apps in those categories. This can lead to increased app downloads and revenue.\n",
        "\n",
        "Additionally, the insights can be used to target marketing campaigns more effectively. For example, businesses can focus on promoting their apps in the \"GAME\" category to users who are most likely to download them."
      ],
      "metadata": {
        "id": "tBpY5ekJphqQ"
      }
    },
    {
      "cell_type": "markdown",
      "source": [
        "#### Chart - 10"
      ],
      "metadata": {
        "id": "U2RJ9gkRphqQ"
      }
    },
    {
      "cell_type": "code",
      "source": [
        "# Chart - 10 visualization code\n",
        "# Average Price of all Category\n",
        "plt.figure(figsize=(15,7))\n",
        "plys_df.groupby(\"Category\")['Price'].mean().sort_values(ascending=False).plot(kind=\"bar\")\n",
        "plt.xlabel(\"Category\",size=15,c=\"r\")\n",
        "plt.ylabel(\"Avg Cost\",size=15,c=\"r\")\n",
        "plt.title(\"Avg Price of all Categories\",size=28,c=\"k\")\n"
      ],
      "metadata": {
        "id": "GM7a4YP4phqQ"
      },
      "execution_count": null,
      "outputs": []
    },
    {
      "cell_type": "markdown",
      "source": [
        "##### 1. Why did you pick the specific chart?"
      ],
      "metadata": {
        "id": "1M8mcRywphqQ"
      }
    },
    {
      "cell_type": "markdown",
      "source": [
        "A bar chart is a suitable choice for visualizing the average price of apps in each category because it allows for easy comparison of the values. The bars are arranged in descending order, making it easy to see which categories have the highest and lowest average prices."
      ],
      "metadata": {
        "id": "8agQvks0phqQ"
      }
    },
    {
      "cell_type": "markdown",
      "source": [
        "##### 2. What is/are the insight(s) found from the chart?"
      ],
      "metadata": {
        "id": "tgIPom80phqQ"
      }
    },
    {
      "cell_type": "markdown",
      "source": [
        "The chart shows that the \"MEDICAL\" category has the highest average price, followed by the \"FINANCE\" and \"LIFESTYLE\" categories. This suggests that apps in these categories tend to be more expensive than apps in other categories.\n"
      ],
      "metadata": {
        "id": "Qp13pnNzphqQ"
      }
    },
    {
      "cell_type": "markdown",
      "source": [
        "##### 3. Will the gained insights help creating a positive business impact?\n",
        "Are there any insights that lead to negative growth? Justify with specific reason."
      ],
      "metadata": {
        "id": "JMzcOPDDphqR"
      }
    },
    {
      "cell_type": "markdown",
      "source": [
        "Yes, the gained insights can help create a positive business impact. By understanding which categories have the highest average prices, businesses can adjust their pricing strategies accordingly. For example, businesses may want to consider charging a higher price for apps in the \"MEDICAL\" category, as users are willing to pay more for apps in this category."
      ],
      "metadata": {
        "id": "R4Ka1PC2phqR"
      }
    },
    {
      "cell_type": "markdown",
      "source": [
        "#### Chart - 11"
      ],
      "metadata": {
        "id": "x-EpHcCOp1ci"
      }
    },
    {
      "cell_type": "code",
      "source": [
        "# Chart - 11 visualization code\n",
        "fig,ax=plt.subplots(figsize=(18,10))\n",
        "cat_app=plys_df['Category'].value_counts()\n",
        "cat_app_vis=sns.barplot(x=cat_app.index,y=cat_app,palette=\"bright\")\n",
        "plt.xticks(rotation=60)\n",
        "plt.xlabel('Category')\n",
        "plt.ylabel('No of Apps')\n",
        "plt.show()\n"
      ],
      "metadata": {
        "id": "mAQTIvtqp1cj"
      },
      "execution_count": null,
      "outputs": []
    },
    {
      "cell_type": "markdown",
      "source": [
        "##### 1. Why did you pick the specific chart?"
      ],
      "metadata": {
        "id": "X_VqEhTip1ck"
      }
    },
    {
      "cell_type": "markdown",
      "source": [
        "A bar chart is a suitable choice for visualizing the number of apps in each category because it allows for easy comparison of the values. The bars are arranged in descending order, making it easy to see which categories have the highest and lowest number of apps.\n"
      ],
      "metadata": {
        "id": "-vsMzt_np1ck"
      }
    },
    {
      "cell_type": "markdown",
      "source": [
        "##### 2. What is/are the insight(s) found from the chart?"
      ],
      "metadata": {
        "id": "8zGJKyg5p1ck"
      }
    },
    {
      "cell_type": "markdown",
      "source": [
        "The chart shows that the \"GAME\" category has the highest number of apps, followed by the \"FAMILY\" and \"TOOLS\" categories. This suggests that these categories are the most popular among developers.\n"
      ],
      "metadata": {
        "id": "ZYdMsrqVp1ck"
      }
    },
    {
      "cell_type": "markdown",
      "source": [
        "##### 3. Will the gained insights help creating a positive business impact?\n",
        "Are there any insights that lead to negative growth? Justify with specific reason."
      ],
      "metadata": {
        "id": "PVzmfK_Ep1ck"
      }
    },
    {
      "cell_type": "markdown",
      "source": [
        "Yes, the gained insights can help create a positive business impact. By understanding which categories are the most popular, businesses can focus on developing more apps in those categories. This can lead to increased app downloads and revenue.\n"
      ],
      "metadata": {
        "id": "druuKYZpp1ck"
      }
    },
    {
      "cell_type": "markdown",
      "source": [
        "#### Chart - 12"
      ],
      "metadata": {
        "id": "n3dbpmDWp1ck"
      }
    },
    {
      "cell_type": "code",
      "source": [
        "# Chart - 12 visualization code\n",
        "# Get the correlation matrix\n",
        "corr = plys_df.corr()\n",
        "\n",
        "# Create a heatmap of plys_df dataframe\n",
        "sns.heatmap(corr, annot=True, cmap=\"coolwarm\")\n",
        "\n",
        "# Show the plot\n",
        "plt.show()\n"
      ],
      "metadata": {
        "id": "bwevp1tKp1ck"
      },
      "execution_count": null,
      "outputs": []
    },
    {
      "cell_type": "markdown",
      "source": [
        "##### 1. Why did you pick the specific chart?"
      ],
      "metadata": {
        "id": "ylSl6qgtp1ck"
      }
    },
    {
      "cell_type": "markdown",
      "source": [
        "A heatmap is a suitable choice for visualizing the correlation matrix of a dataframe because it allows for easy identification of positive and negative correlations between different variables. The color intensity of each cell in the heatmap corresponds to the strength of the correlation between the two variables represented by that cell.\n"
      ],
      "metadata": {
        "id": "m2xqNkiQp1ck"
      }
    },
    {
      "cell_type": "markdown",
      "source": [
        "##### 2. What is/are the insight(s) found from the chart?"
      ],
      "metadata": {
        "id": "ZWILFDl5p1ck"
      }
    },
    {
      "cell_type": "markdown",
      "source": [
        "The heatmap shows that there is a strong positive correlation between the 'Rating' and 'Reviews' columns. This suggests that apps with higher ratings tend to have more reviews. There is also a strong positive correlation between the 'Rating' and 'Installs' columns. This suggests that apps with higher ratings tend to have more installs.\n"
      ],
      "metadata": {
        "id": "x-lUsV2mp1ck"
      }
    },
    {
      "cell_type": "markdown",
      "source": [
        "##### 3. Will the gained insights help creating a positive business impact?\n",
        "Are there any insights that lead to negative growth? Justify with specific reason."
      ],
      "metadata": {
        "id": "M7G43BXep1ck"
      }
    },
    {
      "cell_type": "markdown",
      "source": [
        "Yes, the gained insights can help create a positive business impact. By understanding the relationships between different variables, businesses can make informed decisions about how to improve their apps and increase their chances of success. For example, businesses may want to focus on improving the quality of their apps to increase their ratings, which could lead to more reviews and installs."
      ],
      "metadata": {
        "id": "5wwDJXsLp1cl"
      }
    },
    {
      "cell_type": "markdown",
      "source": [
        "#### Chart - 13"
      ],
      "metadata": {
        "id": "Ag9LCva-p1cl"
      }
    },
    {
      "cell_type": "code",
      "source": [
        "# Chart - 13 visualization code\n",
        "# Get the correlation matrix\n",
        "corr = ur_df.corr()\n",
        "\n",
        "# Create a heatmap of ur_df DataFrame\n",
        "sns.heatmap(corr, annot=True)\n",
        "plt.show()\n"
      ],
      "metadata": {
        "id": "EUfxeq9-p1cl"
      },
      "execution_count": null,
      "outputs": []
    },
    {
      "cell_type": "markdown",
      "source": [
        "##### 1. Why did you pick the specific chart?"
      ],
      "metadata": {
        "id": "E6MkPsBcp1cl"
      }
    },
    {
      "cell_type": "markdown",
      "source": [
        "A heatmap is a suitable choice for visualizing the correlation matrix of a dataframe because it allows for easy identification of positive and negative correlations between different variables. The color intensity of each cell in the heatmap corresponds to the strength of the correlation between the two variables represented by that cell.\n"
      ],
      "metadata": {
        "id": "V22bRsFWp1cl"
      }
    },
    {
      "cell_type": "markdown",
      "source": [
        "##### 2. What is/are the insight(s) found from the chart?"
      ],
      "metadata": {
        "id": "2cELzS2fp1cl"
      }
    },
    {
      "cell_type": "markdown",
      "source": [
        "The heatmap shows that there is a strong positive correlation between the 'Sentiment_Positive' and 'Sentiment_Negative' columns. This suggests that reviews that are positive tend to also be negative. There is also a strong negative correlation between the 'Sentiment_Positive' and 'Sentiment_Neutral' columns. This suggests that reviews that are positive tend to not be neutral.\n"
      ],
      "metadata": {
        "id": "ozQPc2_Ip1cl"
      }
    },
    {
      "cell_type": "markdown",
      "source": [
        "##### 3. Will the gained insights help creating a positive business impact?\n",
        "Are there any insights that lead to negative growth? Justify with specific reason."
      ],
      "metadata": {
        "id": "3MPXvC8up1cl"
      }
    },
    {
      "cell_type": "markdown",
      "source": [
        "Yes, the gained insights can help create a positive business impact. By understanding the relationships between different variables, businesses can make informed decisions about how to improve their apps and increase their chances of success. For example, businesses may want to focus on improving the quality of their apps to increase the number of positive reviews, which could lead to more downloads and revenue."
      ],
      "metadata": {
        "id": "GL8l1tdLp1cl"
      }
    },
    {
      "cell_type": "markdown",
      "source": [
        "#### Chart - 14 - Correlation Heatmap"
      ],
      "metadata": {
        "id": "NC_X3p0fY2L0"
      }
    },
    {
      "cell_type": "code",
      "source": [
        "# Correlation Heatmap visualization code\n",
        "plt.figure(figsize=(10, 6))\n",
        "sns.heatmap(merged_df.corr(), annot=True, cmap='coolwarm', fmt=\".2f\")\n",
        "plt.title('Correlation Heatmap')\n",
        "plt.show()"
      ],
      "metadata": {
        "id": "xyC9zolEZNRQ"
      },
      "execution_count": null,
      "outputs": []
    },
    {
      "cell_type": "markdown",
      "source": [
        "##### 1. Why did you pick the specific chart?"
      ],
      "metadata": {
        "id": "UV0SzAkaZNRQ"
      }
    },
    {
      "cell_type": "markdown",
      "source": [
        "A heatmap is a suitable choice for visualizing the correlation matrix of a dataframe because it allows for easy identification of positive and negative correlations between different variables. The color intensity of each cell in the heatmap corresponds to the strength of the correlation between the two variables represented by that cell.\n"
      ],
      "metadata": {
        "id": "DVPuT8LYZNRQ"
      }
    },
    {
      "cell_type": "markdown",
      "source": [
        "##### 2. What is/are the insight(s) found from the chart?"
      ],
      "metadata": {
        "id": "YPEH6qLeZNRQ"
      }
    },
    {
      "cell_type": "markdown",
      "source": [
        "The heatmap shows that there is a strong positive correlation between the 'Rating' and 'Reviews' columns. This suggests that apps with higher ratings tend to have more reviews. There is also a strong positive correlation between the 'Rating' and 'Installs' columns. This suggests that apps with higher ratings tend to have more installs. Additionally, there is a strong positive correlation between the 'Sentiment_Positive' and 'Rating' columns. This suggests that apps with higher ratings tend to have more positive reviews.\n"
      ],
      "metadata": {
        "id": "bfSqtnDqZNRR"
      }
    },
    {
      "cell_type": "markdown",
      "source": [
        "#### Chart - 15 - Pair Plot"
      ],
      "metadata": {
        "id": "q29F0dvdveiT"
      }
    },
    {
      "cell_type": "code",
      "source": [
        "# Pair Plot visualization code\n",
        "# Pairplot to visualize relationships between numerical variables\n",
        "sns.pairplot(merged_df)\n",
        "plt.show()"
      ],
      "metadata": {
        "id": "o58-TEIhveiU"
      },
      "execution_count": null,
      "outputs": []
    },
    {
      "cell_type": "markdown",
      "source": [
        "##### 1. Why did you pick the specific chart?"
      ],
      "metadata": {
        "id": "EXh0U9oCveiU"
      }
    },
    {
      "cell_type": "markdown",
      "source": [
        "A pairplot is a suitable choice for visualizing the relationships between multiple variables in a dataframe. It creates a grid of scatterplots, where each scatterplot represents the relationship between two different variables. The diagonal of the grid shows the distribution of each individual variable.\n"
      ],
      "metadata": {
        "id": "eMmPjTByveiU"
      }
    },
    {
      "cell_type": "markdown",
      "source": [
        "##### 2. What is/are the insight(s) found from the chart?"
      ],
      "metadata": {
        "id": "22aHeOlLveiV"
      }
    },
    {
      "cell_type": "markdown",
      "source": [
        "The pairplot shows that there is a strong positive correlation between the 'Rating' and 'Reviews' columns. This suggests that apps with higher ratings tend to have more reviews. There is also a strong positive correlation between the 'Rating' and 'Installs' columns. This suggests that apps with higher ratings tend to have more installs. Additionally, there is a strong positive correlation between the 'Sentiment_Positive' and 'Rating' columns. This suggests that apps with higher ratings tend to have more positive reviews.\n",
        "\n",
        "The pairplot also shows that there is a negative correlation between the 'Price' and 'Installs' columns. This suggests that apps with higher prices tend to have fewer installs. Additionally, there is a negative correlation between the 'Price' and 'Reviews' columns. This suggests that apps with higher prices tend to have fewer reviews.\n",
        "\n",
        "Overall, the pairplot provides a comprehensive visualization of the relationships between the different variables in the merged_df dataframe. This information can be used to identify trends and patterns that can be used to improve the success of apps in the Google Play Store."
      ],
      "metadata": {
        "id": "uPQ8RGwHveiV"
      }
    },
    {
      "cell_type": "markdown",
      "source": [
        "## **5. Solution to Business Objective**"
      ],
      "metadata": {
        "id": "JcMwzZxoAimU"
      }
    },
    {
      "cell_type": "markdown",
      "source": [
        "#### What do you suggest the client to achieve Business Objective ?\n",
        "Explain Briefly."
      ],
      "metadata": {
        "id": "8G2x9gOozGDZ"
      }
    },
    {
      "cell_type": "markdown",
      "source": [
        "Based on the insights gained from the data analysis, the following recommendations can be made to improve the success of apps in the Google Play Store:\n",
        "\n",
        "* **Focus on improving the quality of apps to increase their ratings.** This can be done by investing in better design, development, and testing.\n",
        "* **Offer apps at a competitive price point.** Apps that are priced too high tend to have fewer installs and reviews.\n",
        "* **Encourage users to leave reviews.** This can be done by including a prompt to leave a review in the app or by offering incentives for leaving a review.\n",
        "* **Monitor sentiment analysis of reviews to identify areas where improvements can be made.** This can be done using tools such as Google Play's Sentiment Analysis API.\n",
        "* **Use A/B testing to experiment with different app features and pricing strategies.** This can help to identify the most effective ways to improve app performance.\n",
        "\n",
        "By following these recommendations, businesses can increase the chances of success for their apps in the Google Play Store."
      ],
      "metadata": {
        "id": "pASKb0qOza21"
      }
    },
    {
      "cell_type": "markdown",
      "source": [
        "# **Conclusion**"
      ],
      "metadata": {
        "id": "gCX9965dhzqZ"
      }
    },
    {
      "cell_type": "markdown",
      "source": [
        "In conclusion, the data analysis of the Google Play Store apps has provided valuable insights into the factors that contribute to the success of apps. By understanding the relationships between different variables, businesses can make informed decisions about how to improve their apps and increase their chances of success. The recommendations provided in this report can help businesses to achieve their business objectives and improve the overall performance of their apps in the Google Play Store."
      ],
      "metadata": {
        "id": "Fjb1IsQkh3yE"
      }
    },
    {
      "cell_type": "markdown",
      "source": [
        "### ***Hurrah! You have successfully completed your EDA Capstone Project !!!***"
      ],
      "metadata": {
        "id": "gIfDvo9L0UH2"
      }
    }
  ]
}